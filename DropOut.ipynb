{
 "cells": [
  {
   "cell_type": "code",
   "execution_count": 5,
   "id": "cb7b4672-b155-42f8-880c-6d663d7f09f3",
   "metadata": {},
   "outputs": [
    {
     "name": "stdout",
     "output_type": "stream",
     "text": [
      "Epoch 1/5\n",
      "600/600 [==============================] - 12s 18ms/step - loss: 3.5781 - categorical_accuracy: 0.8855\n",
      "Epoch 2/5\n",
      "600/600 [==============================] - 11s 18ms/step - loss: 0.4157 - categorical_accuracy: 0.9206\n",
      "Epoch 3/5\n",
      "600/600 [==============================] - 11s 18ms/step - loss: 0.2906 - categorical_accuracy: 0.9377\n",
      "Epoch 4/5\n",
      "600/600 [==============================] - 11s 19ms/step - loss: 0.2488 - categorical_accuracy: 0.9438\n",
      "Epoch 5/5\n",
      "600/600 [==============================] - 12s 20ms/step - loss: 0.2328 - categorical_accuracy: 0.9474\n"
     ]
    }
   ],
   "source": [
    "from tensorflow.keras.datasets import mnist\n",
    "from tensorflow.keras.models import Sequential\n",
    "from tensorflow.keras.layers import Dense , Flatten , Dropout ,Input\n",
    "import pandas as pd\n",
    "import numpy as np\n",
    "import tensorflow as tf\n",
    "\n",
    "seed = 0\n",
    "np.random.seed(seed)\n",
    "tf.random.set_seed(3)\n",
    "\n",
    "\n",
    "(X_train, y_train), (X_test, y_test)= mnist.load_data()\n",
    "\n",
    "# 3개이상의 classification에서는 onehotencoding\n",
    "y_onehot_train = tf.one_hot(y_train, 10)\n",
    "y_onehot_test = tf.one_hot(y_test, 10)\n",
    "\n",
    "\n",
    "model = Sequential()\n",
    "model.add(Flatten(input_shape=(28,28)))\n",
    "model.add(Dense(512, activation='relu'))\n",
    "model.add(Dropout(rate=0.2))\n",
    "model.add(Dense(10, activation='softmax'))\n",
    "\n",
    "# CategoricalAccuracy - Calculates how often predictions match one-hot labels.\n",
    "model.compile(\n",
    "    optimizer=tf.keras.optimizers.Adam(learning_rate=1e-3),\n",
    "    loss=tf.keras.losses.CategoricalCrossentropy(),\n",
    "    metrics=[\n",
    "        tf.keras.metrics.CategoricalAccuracy(),\n",
    "    ],\n",
    ")\n",
    "\n",
    "history = model.fit(\n",
    "    x=X_train,\n",
    "    y=y_onehot_train,\n",
    "    batch_size=100,\n",
    "    epochs=5,\n",
    ")"
   ]
  },
  {
   "cell_type": "code",
   "execution_count": 6,
   "id": "f629f7cd-d228-4abd-9ab2-04cbae54ce40",
   "metadata": {},
   "outputs": [
    {
     "name": "stdout",
     "output_type": "stream",
     "text": [
      "313/313 [==============================] - 2s 5ms/step - loss: 0.2606 - categorical_accuracy: 0.9543\n"
     ]
    },
    {
     "data": {
      "text/plain": [
       "[0.26059871912002563, 0.9542999863624573]"
      ]
     },
     "execution_count": 6,
     "metadata": {},
     "output_type": "execute_result"
    }
   ],
   "source": [
    "model.evaluate(X_test ,y_onehot_test )"
   ]
  },
  {
   "cell_type": "code",
   "execution_count": null,
   "id": "ff3504b0-aed9-48b0-9704-4f93aea72578",
   "metadata": {},
   "outputs": [],
   "source": []
  }
 ],
 "metadata": {
  "kernelspec": {
   "display_name": "Python 3 (ipykernel)",
   "language": "python",
   "name": "python3"
  },
  "language_info": {
   "codemirror_mode": {
    "name": "ipython",
    "version": 3
   },
   "file_extension": ".py",
   "mimetype": "text/x-python",
   "name": "python",
   "nbconvert_exporter": "python",
   "pygments_lexer": "ipython3",
   "version": "3.11.5"
  }
 },
 "nbformat": 4,
 "nbformat_minor": 5
}
