{
 "cells": [
  {
   "cell_type": "code",
   "execution_count": 1,
   "id": "d78e8025-df1a-4961-92d4-402022f42b19",
   "metadata": {},
   "outputs": [],
   "source": [
    "from tensorflow.keras.datasets import imdb\n",
    "\n",
    "(x_train, y_train), (x_test, y_test) = imdb.load_data(num_words=5000)\n"
   ]
  },
  {
   "cell_type": "code",
   "execution_count": 2,
   "id": "a96c5044-2321-4949-bb52-a3a89cb2fd11",
   "metadata": {},
   "outputs": [],
   "source": [
    "#데이터 전처리\n",
    "from tensorflow.keras.preprocessing import sequence \n",
    "\n",
    "X_pad_sequence_train = sequence.pad_sequences(x_train, maxlen=100)\n",
    "X_pad_sequence_test = sequence.pad_sequences(x_test, maxlen=100)"
   ]
  },
  {
   "cell_type": "code",
   "execution_count": 4,
   "id": "b4ef2e05-80ea-43e6-9046-25dcf9d3346b",
   "metadata": {},
   "outputs": [
    {
     "name": "stdout",
     "output_type": "stream",
     "text": [
      "Epoch 1/20\n",
      "250/250 [==============================] - 30s 107ms/step - loss: 0.4551 - accuracy: 0.0000e+00\n",
      "Epoch 2/20\n",
      "250/250 [==============================] - 28s 114ms/step - loss: 0.2954 - accuracy: 0.0000e+00\n",
      "Epoch 3/20\n",
      "250/250 [==============================] - 28s 112ms/step - loss: 0.2533 - accuracy: 0.0000e+00\n",
      "Epoch 4/20\n",
      "250/250 [==============================] - 28s 113ms/step - loss: 0.2220 - accuracy: 0.0000e+00\n",
      "Epoch 5/20\n",
      "250/250 [==============================] - 28s 113ms/step - loss: 0.1815 - accuracy: 0.0000e+00\n",
      "Epoch 6/20\n",
      "250/250 [==============================] - 29s 115ms/step - loss: 0.1524 - accuracy: 0.0000e+00\n",
      "Epoch 7/20\n",
      "250/250 [==============================] - 29s 114ms/step - loss: 0.1230 - accuracy: 0.0000e+00\n",
      "Epoch 8/20\n",
      "250/250 [==============================] - 29s 114ms/step - loss: 0.1040 - accuracy: 0.0000e+00\n",
      "Epoch 9/20\n",
      "250/250 [==============================] - 28s 113ms/step - loss: 0.0889 - accuracy: 0.0000e+00\n",
      "Epoch 10/20\n",
      "250/250 [==============================] - 27s 109ms/step - loss: 0.0762 - accuracy: 0.0000e+00\n",
      "Epoch 11/20\n",
      "250/250 [==============================] - 28s 111ms/step - loss: 0.0609 - accuracy: 0.0000e+00\n",
      "Epoch 12/20\n",
      "250/250 [==============================] - 29s 114ms/step - loss: 0.0610 - accuracy: 0.0000e+00\n",
      "Epoch 13/20\n",
      "250/250 [==============================] - 28s 114ms/step - loss: 0.0513 - accuracy: 0.0000e+00\n",
      "Epoch 14/20\n",
      "250/250 [==============================] - 28s 113ms/step - loss: 0.0520 - accuracy: 0.0000e+00\n",
      "Epoch 15/20\n",
      "250/250 [==============================] - 28s 114ms/step - loss: 0.0401 - accuracy: 0.0000e+00\n",
      "Epoch 16/20\n",
      "250/250 [==============================] - 30s 119ms/step - loss: 0.0368 - accuracy: 0.0000e+00\n",
      "Epoch 17/20\n",
      "250/250 [==============================] - 29s 115ms/step - loss: 0.0369 - accuracy: 0.0000e+00\n",
      "Epoch 18/20\n",
      "250/250 [==============================] - 29s 114ms/step - loss: 0.0318 - accuracy: 0.0000e+00\n",
      "Epoch 19/20\n",
      "250/250 [==============================] - 28s 114ms/step - loss: 0.0331 - accuracy: 0.0000e+00\n",
      "Epoch 20/20\n",
      "250/250 [==============================] - 29s 115ms/step - loss: 0.0318 - accuracy: 0.0000e+00\n"
     ]
    }
   ],
   "source": [
    "from tensorflow.keras.layers import LSTM, Dense ,Embedding , GRU , Conv1D , MaxPooling1D, Dropout\n",
    "from tensorflow.keras.models import Sequential\n",
    "from tensorflow.keras.losses import CategoricalCrossentropy , BinaryCrossentropy \n",
    "from tensorflow.keras.metrics import Accuracy\n",
    "\n",
    "\n",
    "model = Sequential()\n",
    "model.add(Embedding(5000 , 100 ))\n",
    "model.add(Dropout(0.5))\n",
    "model.add(Conv1D(filters=64,kernel_size=5 , strides=1,padding='valid'))\n",
    "model.add(MaxPooling1D(pool_size=4))\n",
    "model.add(LSTM(55))\n",
    "model.add(Dense(1 , activation='sigmoid'))\n",
    "\n",
    "\n",
    "binary_crossentropy = BinaryCrossentropy(\n",
    "    from_logits=False,\n",
    "    label_smoothing=0.0,\n",
    "    axis=-1,\n",
    "    reduction='sum_over_batch_size',\n",
    "    name='binary_crossentropy'\n",
    ")\n",
    "\n",
    "\n",
    "acc = Accuracy(\n",
    "    name='accuracy', dtype=None\n",
    ")\n",
    "model.compile(\n",
    "    optimizer='adam',\n",
    "    loss=binary_crossentropy,\n",
    "    metrics=[acc],\n",
    ")\n",
    "\n",
    "history = model.fit(\n",
    "    x=X_pad_sequence_train,\n",
    "    y=y_train,\n",
    "    batch_size=100,\n",
    "    epochs=20,\n",
    ")"
   ]
  },
  {
   "cell_type": "code",
   "execution_count": null,
   "id": "84dc141c-8c44-4dcd-a1b6-f455efdd2758",
   "metadata": {},
   "outputs": [],
   "source": []
  }
 ],
 "metadata": {
  "kernelspec": {
   "display_name": "Python 3 (ipykernel)",
   "language": "python",
   "name": "python3"
  },
  "language_info": {
   "codemirror_mode": {
    "name": "ipython",
    "version": 3
   },
   "file_extension": ".py",
   "mimetype": "text/x-python",
   "name": "python",
   "nbconvert_exporter": "python",
   "pygments_lexer": "ipython3",
   "version": "3.11.5"
  }
 },
 "nbformat": 4,
 "nbformat_minor": 5
}
