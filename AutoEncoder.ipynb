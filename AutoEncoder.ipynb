{
 "cells": [
  {
   "cell_type": "code",
   "execution_count": 8,
   "id": "1cfa17a0-9ac7-405e-9dc5-ea07c68ad09f",
   "metadata": {},
   "outputs": [
    {
     "name": "stdout",
     "output_type": "stream",
     "text": [
      "Model: \"sequential_6\"\n",
      "_________________________________________________________________\n",
      " Layer (type)                Output Shape              Param #   \n",
      "=================================================================\n",
      " conv2d_39 (Conv2D)          (None, 28, 28, 16)        160       \n",
      "                                                                 \n",
      " max_pooling2d_12 (MaxPooli  (None, 14, 14, 16)        0         \n",
      " ng2D)                                                           \n",
      "                                                                 \n",
      " conv2d_40 (Conv2D)          (None, 14, 14, 8)         1160      \n",
      "                                                                 \n",
      " max_pooling2d_13 (MaxPooli  (None, 7, 7, 8)           0         \n",
      " ng2D)                                                           \n",
      "                                                                 \n",
      " conv2d_41 (Conv2D)          (None, 4, 4, 8)           584       \n",
      "                                                                 \n",
      " conv2d_42 (Conv2D)          (None, 4, 4, 8)           584       \n",
      "                                                                 \n",
      " up_sampling2d_18 (UpSampli  (None, 8, 8, 8)           0         \n",
      " ng2D)                                                           \n",
      "                                                                 \n",
      " conv2d_43 (Conv2D)          (None, 8, 8, 8)           584       \n",
      "                                                                 \n",
      " up_sampling2d_19 (UpSampli  (None, 16, 16, 8)         0         \n",
      " ng2D)                                                           \n",
      "                                                                 \n",
      " conv2d_44 (Conv2D)          (None, 14, 14, 16)        1168      \n",
      "                                                                 \n",
      " up_sampling2d_20 (UpSampli  (None, 28, 28, 16)        0         \n",
      " ng2D)                                                           \n",
      "                                                                 \n",
      " conv2d_45 (Conv2D)          (None, 28, 28, 1)         145       \n",
      "                                                                 \n",
      "=================================================================\n",
      "Total params: 4385 (17.13 KB)\n",
      "Trainable params: 4385 (17.13 KB)\n",
      "Non-trainable params: 0 (0.00 Byte)\n",
      "_________________________________________________________________\n"
     ]
    }
   ],
   "source": [
    "from tensorflow.keras.datasets import mnist\n",
    "from tensorflow.keras.models import Sequential,Model\n",
    "from tensorflow.keras.layers import Input,Dense,Conv2D,MaxPooling2D,UpSampling2D,Flatten,Reshape\n",
    "import matplotlib.pyplot as plt\n",
    "import numpy as np\n",
    "(X_train,_),(X_test,_)=mnist.load_data()\n",
    "X_train=X_train.reshape(X_train.shape[0],28,28,1).astype('float32')/255\n",
    "X_test=X_test.reshape(X_test.shape[0],28,28,1).astype('float32')/255\n",
    "\n",
    "autoencoder=Sequential()\n",
    "autoencoder.add(Conv2D(16,kernel_size=3,padding='same',input_shape=(28,28,1),activation='relu'))\n",
    "autoencoder.add(MaxPooling2D(pool_size=2,padding='same'))\n",
    "autoencoder.add(Conv2D(8,kernel_size=3,activation='relu',padding='same'))\n",
    "autoencoder.add(MaxPooling2D(pool_size=2,padding='same'))\n",
    "autoencoder.add(Conv2D(8,kernel_size=3,strides=2,padding='same',activation='relu'))\n",
    "\n",
    "autoencoder.add(Conv2D(8,kernel_size=3,padding='same',activation='relu'))\n",
    "autoencoder.add(UpSampling2D())\n",
    "autoencoder.add(Conv2D(8,kernel_size=3,padding='same',activation='relu'))\n",
    "autoencoder.add(UpSampling2D())\n",
    "autoencoder.add(Conv2D(16,kernel_size=3,activation='relu'))\n",
    "autoencoder.add(UpSampling2D())\n",
    "autoencoder.add(Conv2D(1,kernel_size=3,padding='same', activation='sigmoid'))\n",
    "autoencoder. summary()"
   ]
  },
  {
   "cell_type": "code",
   "execution_count": 7,
   "id": "5607d122-b582-4e1c-b98f-9947b111ab2c",
   "metadata": {},
   "outputs": [
    {
     "name": "stdout",
     "output_type": "stream",
     "text": [
      "Epoch 1/50\n",
      "469/469 [==============================] - 80s 167ms/step - loss: 0.2872 - val_loss: 0.2125\n",
      "Epoch 2/50\n",
      "243/469 [==============>...............] - ETA: 34s - loss: 0.2108"
     ]
    },
    {
     "name": "stderr",
     "output_type": "stream",
     "text": [
      "\n",
      "KeyboardInterrupt\n",
      "\n"
     ]
    }
   ],
   "source": [
    "# 컴파일 및 학습\n",
    "autoencoder.compile(optimizer = 'adam', loss = 'binary_crossentropy')\n",
    "autoencoder.fit(X_train, X_train, epochs = 50, batch_size = 128, validation_data = (X_test, X_test))\n",
    "\n",
    "# 학습된 결과를 출력\n",
    "random_test = np.random.randint(X_test.shape[0], size = 5)"
   ]
  },
  {
   "cell_type": "code",
   "execution_count": null,
   "id": "c76db253-5aaa-4e69-8c31-79b922b99a49",
   "metadata": {},
   "outputs": [],
   "source": [
    "# 테스트할 이미지, 랜덤으로 추출\n",
    "ae_imgs = autoencoder.predict(X_test) # 앞서 만든 오토인코더 모델에 넣기\n",
    "\n",
    "plt.figure(figsize=(7, 2)) # 출력 이미지 크기 정하기\n",
    "\n",
    "for i, image_idx in enumerate(random_test): \n",
    "    # 랜덤으로 뽑은 이미지 차례로 나열\n",
    "    ax = plt.subplot(2, 7, i+1)\n",
    "    # 테스트할 이미지 먼저 그대로 보여 줌\n",
    "    plt.imshow(X_test[image_idx].reshape(28, 28))\n",
    "    ax.axis('off')\n",
    "    ax = plt.subplot(2, 7, 7+i+1)"
   ]
  }
 ],
 "metadata": {
  "kernelspec": {
   "display_name": "Python 3 (ipykernel)",
   "language": "python",
   "name": "python3"
  },
  "language_info": {
   "codemirror_mode": {
    "name": "ipython",
    "version": 3
   },
   "file_extension": ".py",
   "mimetype": "text/x-python",
   "name": "python",
   "nbconvert_exporter": "python",
   "pygments_lexer": "ipython3",
   "version": "3.11.5"
  }
 },
 "nbformat": 4,
 "nbformat_minor": 5
}
